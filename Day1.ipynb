{
  "nbformat": 4,
  "nbformat_minor": 0,
  "metadata": {
    "colab": {
      "name": "Day1.ipynb",
      "provenance": [],
      "authorship_tag": "ABX9TyOtVrCqexL+HRv6As2fYn5E",
      "include_colab_link": true
    },
    "kernelspec": {
      "name": "python3",
      "display_name": "Python 3"
    },
    "language_info": {
      "name": "python"
    }
  },
  "cells": [
    {
      "cell_type": "markdown",
      "metadata": {
        "id": "view-in-github",
        "colab_type": "text"
      },
      "source": [
        "<a href=\"https://colab.research.google.com/github/Fiermelho/100Days-Python/blob/main/Day1.ipynb\" target=\"_parent\"><img src=\"https://colab.research.google.com/assets/colab-badge.svg\" alt=\"Open In Colab\"/></a>"
      ]
    },
    {
      "cell_type": "markdown",
      "source": [
        "# **Day 1**"
      ],
      "metadata": {
        "id": "i4mVbbAEUDAc"
      }
    },
    {
      "cell_type": "markdown",
      "source": [
        "## Exercises"
      ],
      "metadata": {
        "id": "ouXeRC5hUJbo"
      }
    },
    {
      "cell_type": "markdown",
      "source": [
        "Exercise 1"
      ],
      "metadata": {
        "id": "pdXTDSUL5l2B"
      }
    },
    {
      "cell_type": "code",
      "source": [
        "#Author: Marcos Filho\n",
        "#12/16/2021\n",
        "#Day 1 / Exercise 1 - Printing\n",
        "print(\"Day 1 - Python Print Function\\nThe function is declared like this:\\nprint('what to print')\")"
      ],
      "metadata": {
        "colab": {
          "base_uri": "https://localhost:8080/"
        },
        "id": "PEF21x4u5TM4",
        "outputId": "f491fb74-82d9-41fb-ad4c-90211fca0fce"
      },
      "execution_count": null,
      "outputs": [
        {
          "output_type": "stream",
          "name": "stdout",
          "text": [
            "Day 1 - Python Print Function\n",
            "The function is declared like this:\n",
            "print('what to print')\n"
          ]
        }
      ]
    },
    {
      "cell_type": "markdown",
      "source": [
        "Exercise 2"
      ],
      "metadata": {
        "id": "slRBbC1t5pdb"
      }
    },
    {
      "cell_type": "code",
      "source": [
        "#Author: Marcos Filho\n",
        "#12/16/2021\n",
        "#Day 1 / Exercise 2 - Debugging Practice\n",
        "print(\"Day 1 - String Manipulation\")\n",
        "print(\"String Concatenation is done with the + sign.\")\n",
        "print('e.g. print(\"Hello \" + \"world\")')\n",
        "print(\"New lines can be created with a backslash and n.\")"
      ],
      "metadata": {
        "colab": {
          "base_uri": "https://localhost:8080/"
        },
        "id": "0rcQL_Hd5Ud6",
        "outputId": "6ed50570-adcc-473c-e6b0-15ebcdf7a8d6"
      },
      "execution_count": null,
      "outputs": [
        {
          "output_type": "stream",
          "name": "stdout",
          "text": [
            "Day 1 - String Manipulation\n",
            "String Concatenation is done with the + sign.\n",
            "e.g. print(\"Hello \" + \"world\")\n",
            "New lines can be created with a backslash and n.\n"
          ]
        }
      ]
    },
    {
      "cell_type": "markdown",
      "source": [
        "Exercise 3"
      ],
      "metadata": {
        "id": "aZeDiI6U5sG_"
      }
    },
    {
      "cell_type": "code",
      "source": [
        "#Author: Marcos Filho\n",
        "#12/16/2021\n",
        "#Day 1 / Exercise 3 - Input Function\n",
        "name=input(\"What's your name? \")\n",
        "print(\"The number of characters in your name is\",len(name),\".\")"
      ],
      "metadata": {
        "colab": {
          "base_uri": "https://localhost:8080/"
        },
        "id": "mAqH7t2i5uDZ",
        "outputId": "a2e0534a-5ba8-4933-ab21-8bd361f9c325"
      },
      "execution_count": null,
      "outputs": [
        {
          "output_type": "stream",
          "name": "stdout",
          "text": [
            "What's your name? Marcos\n",
            "The number of characters in your name is 6 .\n"
          ]
        }
      ]
    },
    {
      "cell_type": "markdown",
      "source": [
        "Exercise 4"
      ],
      "metadata": {
        "id": "UnWf8xRW64wm"
      }
    },
    {
      "cell_type": "code",
      "source": [
        "#Author: Marcos Filho\n",
        "#12/16/2021\n",
        "#Day 1 / Exercise 4 - Variables\n",
        "# 🚨 Don't change the code below 👇\n",
        "a = input(\"a: \")\n",
        "b = input(\"b: \")\n",
        "# 🚨 Don't change the code above 👆\n",
        "\n",
        "####################################\n",
        "#Write your code below this line 👇\n",
        "c=a\n",
        "a=b\n",
        "b=c\n",
        "#Write your code above this line 👆\n",
        "####################################\n",
        "\n",
        "# 🚨 Don't change the code below 👇\n",
        "print(\"a: \" + a)\n",
        "print(\"b: \" + b)"
      ],
      "metadata": {
        "colab": {
          "base_uri": "https://localhost:8080/"
        },
        "id": "sz1XsF836486",
        "outputId": "ba86aa43-8afd-4309-bb11-550219ebee77"
      },
      "execution_count": null,
      "outputs": [
        {
          "output_type": "stream",
          "name": "stdout",
          "text": [
            "a: 6\n",
            "b: 9\n",
            "a: 9\n",
            "b: 6\n"
          ]
        }
      ]
    },
    {
      "cell_type": "markdown",
      "source": [
        "## Test"
      ],
      "metadata": {
        "id": "jwJ8_fLKURCI"
      }
    },
    {
      "cell_type": "markdown",
      "source": [
        "Test Day 1"
      ],
      "metadata": {
        "id": "IaRwazNJw-ha"
      }
    },
    {
      "cell_type": "code",
      "source": [
        "print(\"Welcome to the Band Name Generator\")\n",
        "print(\"What's name of the city you grew up in?\")\n",
        "city=input()\n",
        "print(\"What's your pet's name?\")\n",
        "pet=input()\n",
        "print(\"Your band name could be\",city,pet)"
      ],
      "metadata": {
        "colab": {
          "base_uri": "https://localhost:8080/"
        },
        "id": "q57oFARstJoi",
        "outputId": "2f6e985c-1673-4a13-f0ea-220488363349"
      },
      "execution_count": null,
      "outputs": [
        {
          "output_type": "stream",
          "name": "stdout",
          "text": [
            "Welcome to the Band Name Generator\n",
            "What's name of the city you grew up in?\n",
            "Fortaleza\n",
            "What's your pet's name?\n",
            "Ceará\n",
            "Your band name could be Fortaleza Ceará\n"
          ]
        }
      ]
    },
    {
      "cell_type": "markdown",
      "source": [
        "Version 2 - Test Day 1"
      ],
      "metadata": {
        "id": "OUmvxJWlxIfI"
      }
    },
    {
      "cell_type": "code",
      "source": [
        "print(\"Welcome to the Band Name Generator\\nWhat's name of the city you grew up in?\")\n",
        "city=input()\n",
        "print(\"What's your pet's name?\")\n",
        "pet=input()\n",
        "print(\"Your band name could be\",city,pet)"
      ],
      "metadata": {
        "colab": {
          "base_uri": "https://localhost:8080/"
        },
        "id": "sWdj5aX0xLK1",
        "outputId": "f98cc355-b437-4678-da4e-d57172b143f7"
      },
      "execution_count": null,
      "outputs": [
        {
          "output_type": "stream",
          "name": "stdout",
          "text": [
            "Welcome to the Band Name Generator\n",
            "What's name of the city you grew up in?\n",
            "Fortaleza\n",
            "What's your pet's name?\n",
            "Ceará\n",
            "Your band name could be Fortaleza Ceará\n"
          ]
        }
      ]
    },
    {
      "cell_type": "markdown",
      "source": [
        "Version 3 - Test Day"
      ],
      "metadata": {
        "id": "V7VqIkw6QJFy"
      }
    },
    {
      "cell_type": "code",
      "source": [
        "city=input(\"Welcome to the Band Name Generator\\nWhat's name of the city you grew up in?\\n\")\n",
        "pet=input(\"What's your pet's name?\\n\")\n",
        "print(\"Your band name could be\",city,pet)\n",
        "#print(\"Your band name could be \" + city + \" \" + pet)"
      ],
      "metadata": {
        "colab": {
          "base_uri": "https://localhost:8080/"
        },
        "id": "Aa-h2y2ZQIyn",
        "outputId": "e5661f2f-69c6-4358-85ce-87510ac93043"
      },
      "execution_count": null,
      "outputs": [
        {
          "output_type": "stream",
          "name": "stdout",
          "text": [
            "Welcome to the Band Name Generator\n",
            "What's name of the city you grew up in?\n",
            "Fortaleza\n",
            "What's your pet's name?\n",
            "Ceará\n",
            "Your band name could be Fortaleza Ceará\n"
          ]
        }
      ]
    }
  ]
}