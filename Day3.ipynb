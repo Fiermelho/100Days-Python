{
  "nbformat": 4,
  "nbformat_minor": 0,
  "metadata": {
    "colab": {
      "name": "Day3.ipynb",
      "provenance": [],
      "include_colab_link": true
    },
    "kernelspec": {
      "name": "python3",
      "display_name": "Python 3"
    },
    "language_info": {
      "name": "python"
    }
  },
  "cells": [
    {
      "cell_type": "markdown",
      "metadata": {
        "id": "view-in-github",
        "colab_type": "text"
      },
      "source": [
        "<a href=\"https://colab.research.google.com/github/Fiermelho/100Days-Python/blob/main/Day3.ipynb\" target=\"_parent\"><img src=\"https://colab.research.google.com/assets/colab-badge.svg\" alt=\"Open In Colab\"/></a>"
      ]
    },
    {
      "cell_type": "markdown",
      "source": [
        "# **Day 3**"
      ],
      "metadata": {
        "id": "TmrQv4FFuVO6"
      }
    },
    {
      "cell_type": "markdown",
      "source": [
        "## Exercises"
      ],
      "metadata": {
        "id": "Eo4_pN8_ub8O"
      }
    },
    {
      "cell_type": "markdown",
      "source": [
        "Exercise 1"
      ],
      "metadata": {
        "id": "kwjOeUn7uVwu"
      }
    },
    {
      "cell_type": "code",
      "source": [
        "#Author: Marcos Filho\n",
        "#12/16/2021\n",
        "#Day 3 / Exercise 1 - Odd or Even\n",
        "#Write a program that works out whether if a given number is an odd or even number.\n",
        "# 🚨 Don't change the code below 👇\n",
        "number = int(input(\"Which number do you want to check? \"))\n",
        "# 🚨 Don't change the code above 👆\n",
        "\n",
        "#Write your code below this line 👇\n",
        "test=int(number)%2\n",
        "if(test==1):\n",
        "    print(\"This is an odd number.\")\n",
        "else:\n",
        "    print(\"This is an even number.\")"
      ],
      "metadata": {
        "colab": {
          "base_uri": "https://localhost:8080/"
        },
        "id": "GFQke0b8uVDS",
        "outputId": "70ab77ae-48d2-4a63-d3ee-6ccc3b34cc49"
      },
      "execution_count": 2,
      "outputs": [
        {
          "output_type": "stream",
          "name": "stdout",
          "text": [
            "Which number do you want to check? 21\n",
            "This is an odd number.\n"
          ]
        }
      ]
    },
    {
      "cell_type": "markdown",
      "source": [
        "Exercise 2"
      ],
      "metadata": {
        "id": "mUTrXKVALpQH"
      }
    },
    {
      "cell_type": "code",
      "source": [
        "# 🚨 Don't change the code below 👇\n",
        "height = float(input(\"enter your height in m: \"))\n",
        "weight = float(input(\"enter your weight in kg: \"))\n",
        "# 🚨 Don't change the code above 👆\n",
        "\n",
        "#Write your code below this line 👇\n",
        "imc=weight/(height**2)\n",
        "#print(f'{weight}÷({height}x{height})={imc}')\n",
        "if imc>35:\n",
        "    result='are clinically obese'\n",
        "elif imc>=30:\n",
        "    result='are obese'\n",
        "elif imc>=25:\n",
        "    result='are slightly overweight'\n",
        "elif imc>=18.5:\n",
        "    result='have a normal weight'\n",
        "else:\n",
        "    result='are underweight'\n",
        "imc=int(round(imc))\n",
        "print(f'Your BMI is {imc}, you {result}.')"
      ],
      "metadata": {
        "colab": {
          "base_uri": "https://localhost:8080/"
        },
        "id": "PWOEgyJcLqzk",
        "outputId": "d007a487-b6ba-4be6-d3c6-ede79a583f40"
      },
      "execution_count": 4,
      "outputs": [
        {
          "output_type": "stream",
          "name": "stdout",
          "text": [
            "enter your height in m: 1.79\n",
            "enter your weight in kg: 75\n",
            "Your BMI is 23, you have a normal weight.\n"
          ]
        }
      ]
    },
    {
      "cell_type": "markdown",
      "source": [
        "Exercise 3"
      ],
      "metadata": {
        "id": "xvJAUviNRxEj"
      }
    },
    {
      "cell_type": "code",
      "source": [
        "# 🚨 Don't change the code below 👇\n",
        "year = int(input(\"Which year do you want to check? \"))\n",
        "# 🚨 Don't change the code above 👆\n",
        "\n",
        "#Write your code below this line 👇\n",
        "if year%4==0:\n",
        "    if year%100==0:\n",
        "        if year%400==0:\n",
        "            print(f'Leap year.')\n",
        "        else:\n",
        "            print(f'Not leap year.')   \n",
        "    else:\n",
        "        print(f'Leap year.')\n",
        "else:\n",
        "    print(f'Not leap year.')"
      ],
      "metadata": {
        "id": "pTDn9DZERzWC"
      },
      "execution_count": null,
      "outputs": []
    },
    {
      "cell_type": "markdown",
      "source": [
        "## Test"
      ],
      "metadata": {
        "id": "Cr0e6u7MuUmZ"
      }
    },
    {
      "cell_type": "code",
      "execution_count": null,
      "metadata": {
        "id": "ZgeRtqSZuT8S"
      },
      "outputs": [],
      "source": [
        "7%2"
      ]
    }
  ]
}