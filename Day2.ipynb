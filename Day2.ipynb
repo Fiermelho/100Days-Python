{
  "nbformat": 4,
  "nbformat_minor": 0,
  "metadata": {
    "colab": {
      "name": "Day2.ipynb",
      "provenance": [],
      "collapsed_sections": [],
      "authorship_tag": "ABX9TyPzMZE99O5LIVsWvaPdrvvT",
      "include_colab_link": true
    },
    "kernelspec": {
      "name": "python3",
      "display_name": "Python 3"
    },
    "language_info": {
      "name": "python"
    }
  },
  "cells": [
    {
      "cell_type": "markdown",
      "metadata": {
        "id": "view-in-github",
        "colab_type": "text"
      },
      "source": [
        "<a href=\"https://colab.research.google.com/github/Fiermelho/100Days-Python/blob/main/Day2.ipynb\" target=\"_parent\"><img src=\"https://colab.research.google.com/assets/colab-badge.svg\" alt=\"Open In Colab\"/></a>"
      ]
    },
    {
      "cell_type": "markdown",
      "source": [
        "# **Day 2**"
      ],
      "metadata": {
        "id": "n4_ySNHsTwPa"
      }
    },
    {
      "cell_type": "markdown",
      "source": [
        "## Exercises"
      ],
      "metadata": {
        "id": "_8Ou55bwUjeV"
      }
    },
    {
      "cell_type": "markdown",
      "source": [
        "Exercise 1"
      ],
      "metadata": {
        "id": "i_GQzF76pPvV"
      }
    },
    {
      "cell_type": "code",
      "execution_count": null,
      "metadata": {
        "id": "uz5_0DEgTvPy",
        "colab": {
          "base_uri": "https://localhost:8080/"
        },
        "outputId": "b8f95972-1dbc-4ab0-a09b-78592a0495da"
      },
      "outputs": [
        {
          "output_type": "stream",
          "name": "stdout",
          "text": [
            "Type a two digit number: 23\n",
            "2+3=5\n"
          ]
        }
      ],
      "source": [
        "#Author: Marcos Filho\n",
        "#12/16/2021\n",
        "#Day 2 / Exercise 1 - Data Types\n",
        "#Write a program that adds the digits in a 2 digit number.\n",
        "# 🚨 Don't change the code below 👇\n",
        "two_digit_number = input(\"Type a two digit number: \")\n",
        "# 🚨 Don't change the code above 👆\n",
        "\n",
        "####################################\n",
        "#Write your code below this line 👇\n",
        "two_digit_number_int = int(two_digit_number)\n",
        "digit1 = int(two_digit_number_int/10)\n",
        "digit2 = two_digit_number_int - digit1*10\n",
        "sum = digit1 + digit2\n",
        "sum_str= str(sum)\n",
        "#print(two_digit_number[0] + \"+\" + two_digit_number[1] + \"=\" ,sum)\n",
        "print(two_digit_number[0] + \"+\" + two_digit_number[1] + \"=\" + sum_str)"
      ]
    },
    {
      "cell_type": "markdown",
      "source": [
        "Exercise 2"
      ],
      "metadata": {
        "id": "NyNIdkaNpSR3"
      }
    },
    {
      "cell_type": "code",
      "source": [
        "#Author: Marcos Filho\n",
        "#12/16/2021\n",
        "#Day 2 / Exercise 2 - BMI Calculator\n",
        "#Write a program6 that calculates the Body Mass Index (BMI) from a user's weight and height.\n",
        "#PEMDAS -> Parentheses, Exponents, Multiplication, Division, Addition, Subtraction\n",
        "#// -> Transform to integer\n",
        "#% -> rest of division\n",
        "# 🚨 Don't change the code below 👇\n",
        "height = input(\"enter your height in m: \")\n",
        "weight = input(\"enter your weight in kg: \")\n",
        "# 🚨 Don't change the code above 👆\n",
        "\n",
        "#Write your code below this line 👇\n",
        "bmi=round(float(weight)/(float(height)**2))\n",
        "print(bmi)"
      ],
      "metadata": {
        "id": "LMFxiNo6pTVx"
      },
      "execution_count": null,
      "outputs": []
    },
    {
      "cell_type": "markdown",
      "source": [
        "Exercise 3"
      ],
      "metadata": {
        "id": "k074ujdbsuFc"
      }
    },
    {
      "cell_type": "code",
      "source": [
        "#Author: Marcos Filho\n",
        "#12/16/2021\n",
        "#Day 2 / Exercise 3 - Life in Weeks\n",
        "#Create a program using maths and f-Strings that tells us how many days, weeks, months we have left if we live until 90 years old.\n",
        "# 🚨 Don't change the code below 👇\n",
        "age = input(\"What is your current age?\")\n",
        "# 🚨 Don't change the code above 👆\n",
        "\n",
        "#Write your code below this line 👇\n",
        "days=(90-int(age))*365\n",
        "weeks=(90-int(age))*52\n",
        "months=(90-int(age))*12\n",
        "print(\"You have\",days,\"days,\",weeks,\"weeks, and\", months,\"months left.\")"
      ],
      "metadata": {
        "colab": {
          "base_uri": "https://localhost:8080/"
        },
        "id": "MmqhAhI5svvE",
        "outputId": "16f8111c-e8a2-4667-89a7-c32962742115"
      },
      "execution_count": null,
      "outputs": [
        {
          "output_type": "stream",
          "name": "stdout",
          "text": [
            "What is your current age?65\n",
            "You have 9125 days, 1300 weeks, and 300 months left.\n"
          ]
        }
      ]
    },
    {
      "cell_type": "markdown",
      "source": [
        "## Test"
      ],
      "metadata": {
        "id": "rabvFG8NUnv0"
      }
    },
    {
      "cell_type": "code",
      "source": [
        "#Author: Marcos Filho\n",
        "#12/16/2021\n",
        "#Final Test\n",
        "total_bill = input(\"Welcome to the tip calculator.\\nWhat was the total bill? $\")\n",
        "total_people = input(\"How many people to split the bill? \")\n",
        "percentage = input(\"What percentage tip would you like to give? 10, 12 or 15? \")\n",
        "pay = round((float(total_bill)*(1+(float(percentage)/100)))/float(total_people),2)\n",
        "pay = \"{:.2f}\".format(pay)\n",
        "#pay_str = str(round(pay,2))\n",
        "print(f\"Each person should pay: ${pay}\")"
      ],
      "metadata": {
        "colab": {
          "base_uri": "https://localhost:8080/"
        },
        "id": "6faviH4rUrwY",
        "outputId": "ffe5bbb1-e0d5-4002-855e-268206c2ab60"
      },
      "execution_count": 10,
      "outputs": [
        {
          "output_type": "stream",
          "name": "stdout",
          "text": [
            "Welcome to the tip calculator.\n",
            "What was the total bill? $124.54\n",
            "How many people to split the bill? 5\n",
            "What percentage tip would you like to give? 10, 12 or 15? 12\n",
            "Each person should pay: $27.90\n"
          ]
        }
      ]
    }
  ]
}